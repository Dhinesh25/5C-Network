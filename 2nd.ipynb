{
  "cells": [
    {
      "cell_type": "code",
      "execution_count": 19,
      "metadata": {
        "id": "IM31zWcN53He"
      },
      "outputs": [],
      "source": [
        "import pandas as pd\n",
        "import numpy as np\n",
        "import matplotlib.pyplot as plt"
      ]
    },
    {
      "cell_type": "code",
      "execution_count": 18,
      "metadata": {
        "id": "jB4z1xxs54aT"
      },
      "outputs": [],
      "source": [
        "#data\n",
        "df = pd.read_csv('sales_data_2.csv')"
      ]
    },
    {
      "cell_type": "code",
      "execution_count": 23,
      "metadata": {
        "colab": {
          "base_uri": "https://localhost:8080/",
          "height": 424
        },
        "id": "PZRv2qUv6y8f",
        "outputId": "f23cd25a-9392-431c-e9e2-aeb6c8fca7c1"
      },
      "outputs": [
        {
          "data": {
            "text/html": [
              "\n",
              "  <div id=\"df-33d48244-d683-4aa0-8891-8e820df00c0a\" class=\"colab-df-container\">\n",
              "    <div>\n",
              "<style scoped>\n",
              "    .dataframe tbody tr th:only-of-type {\n",
              "        vertical-align: middle;\n",
              "    }\n",
              "\n",
              "    .dataframe tbody tr th {\n",
              "        vertical-align: top;\n",
              "    }\n",
              "\n",
              "    .dataframe thead th {\n",
              "        text-align: right;\n",
              "    }\n",
              "</style>\n",
              "<table border=\"1\" class=\"dataframe\">\n",
              "  <thead>\n",
              "    <tr style=\"text-align: right;\">\n",
              "      <th></th>\n",
              "      <th>Date</th>\n",
              "      <th>Firm bought from</th>\n",
              "      <th>Buying price</th>\n",
              "      <th>Quantity bought</th>\n",
              "      <th>Customer</th>\n",
              "      <th>Selling price</th>\n",
              "      <th>Quantity sold</th>\n",
              "    </tr>\n",
              "  </thead>\n",
              "  <tbody>\n",
              "    <tr>\n",
              "      <th>0</th>\n",
              "      <td>2023-08-21</td>\n",
              "      <td>Vendor6</td>\n",
              "      <td>72.11</td>\n",
              "      <td>60</td>\n",
              "      <td>Customer7</td>\n",
              "      <td>91.58</td>\n",
              "      <td>44</td>\n",
              "    </tr>\n",
              "    <tr>\n",
              "      <th>1</th>\n",
              "      <td>2023-08-21</td>\n",
              "      <td>Vendor4</td>\n",
              "      <td>75.08</td>\n",
              "      <td>92</td>\n",
              "      <td>Customer7</td>\n",
              "      <td>83.71</td>\n",
              "      <td>17</td>\n",
              "    </tr>\n",
              "    <tr>\n",
              "      <th>2</th>\n",
              "      <td>2023-08-21</td>\n",
              "      <td>Vendor7</td>\n",
              "      <td>83.93</td>\n",
              "      <td>16</td>\n",
              "      <td>Customer2</td>\n",
              "      <td>103.76</td>\n",
              "      <td>15</td>\n",
              "    </tr>\n",
              "    <tr>\n",
              "      <th>3</th>\n",
              "      <td>2023-08-21</td>\n",
              "      <td>Vendor7</td>\n",
              "      <td>52.01</td>\n",
              "      <td>62</td>\n",
              "      <td>Customer3</td>\n",
              "      <td>64.53</td>\n",
              "      <td>7</td>\n",
              "    </tr>\n",
              "    <tr>\n",
              "      <th>4</th>\n",
              "      <td>2023-08-21</td>\n",
              "      <td>Vendor2</td>\n",
              "      <td>98.91</td>\n",
              "      <td>1</td>\n",
              "      <td>Customer5</td>\n",
              "      <td>140.92</td>\n",
              "      <td>1</td>\n",
              "    </tr>\n",
              "    <tr>\n",
              "      <th>...</th>\n",
              "      <td>...</td>\n",
              "      <td>...</td>\n",
              "      <td>...</td>\n",
              "      <td>...</td>\n",
              "      <td>...</td>\n",
              "      <td>...</td>\n",
              "      <td>...</td>\n",
              "    </tr>\n",
              "    <tr>\n",
              "      <th>65</th>\n",
              "      <td>2023-08-27</td>\n",
              "      <td>Vendor4</td>\n",
              "      <td>64.82</td>\n",
              "      <td>28</td>\n",
              "      <td>Customer6</td>\n",
              "      <td>87.45</td>\n",
              "      <td>18</td>\n",
              "    </tr>\n",
              "    <tr>\n",
              "      <th>66</th>\n",
              "      <td>2023-08-27</td>\n",
              "      <td>Vendor8</td>\n",
              "      <td>88.79</td>\n",
              "      <td>14</td>\n",
              "      <td>Customer3</td>\n",
              "      <td>105.59</td>\n",
              "      <td>5</td>\n",
              "    </tr>\n",
              "    <tr>\n",
              "      <th>67</th>\n",
              "      <td>2023-08-27</td>\n",
              "      <td>Vendor5</td>\n",
              "      <td>63.30</td>\n",
              "      <td>81</td>\n",
              "      <td>Customer5</td>\n",
              "      <td>92.92</td>\n",
              "      <td>32</td>\n",
              "    </tr>\n",
              "    <tr>\n",
              "      <th>68</th>\n",
              "      <td>2023-08-27</td>\n",
              "      <td>Vendor5</td>\n",
              "      <td>94.06</td>\n",
              "      <td>18</td>\n",
              "      <td>Customer5</td>\n",
              "      <td>125.67</td>\n",
              "      <td>4</td>\n",
              "    </tr>\n",
              "    <tr>\n",
              "      <th>69</th>\n",
              "      <td>2023-08-27</td>\n",
              "      <td>Vendor5</td>\n",
              "      <td>56.28</td>\n",
              "      <td>25</td>\n",
              "      <td>Customer6</td>\n",
              "      <td>82.16</td>\n",
              "      <td>1</td>\n",
              "    </tr>\n",
              "  </tbody>\n",
              "</table>\n",
              "<p>70 rows × 7 columns</p>\n",
              "</div>\n",
              "    <div class=\"colab-df-buttons\">\n",
              "\n",
              "  <div class=\"colab-df-container\">\n",
              "    <button class=\"colab-df-convert\" onclick=\"convertToInteractive('df-33d48244-d683-4aa0-8891-8e820df00c0a')\"\n",
              "            title=\"Convert this dataframe to an interactive table.\"\n",
              "            style=\"display:none;\">\n",
              "\n",
              "  <svg xmlns=\"http://www.w3.org/2000/svg\" height=\"24px\" viewBox=\"0 -960 960 960\">\n",
              "    <path d=\"M120-120v-720h720v720H120Zm60-500h600v-160H180v160Zm220 220h160v-160H400v160Zm0 220h160v-160H400v160ZM180-400h160v-160H180v160Zm440 0h160v-160H620v160ZM180-180h160v-160H180v160Zm440 0h160v-160H620v160Z\"/>\n",
              "  </svg>\n",
              "    </button>\n",
              "\n",
              "  <style>\n",
              "    .colab-df-container {\n",
              "      display:flex;\n",
              "      gap: 12px;\n",
              "    }\n",
              "\n",
              "    .colab-df-convert {\n",
              "      background-color: #E8F0FE;\n",
              "      border: none;\n",
              "      border-radius: 50%;\n",
              "      cursor: pointer;\n",
              "      display: none;\n",
              "      fill: #1967D2;\n",
              "      height: 32px;\n",
              "      padding: 0 0 0 0;\n",
              "      width: 32px;\n",
              "    }\n",
              "\n",
              "    .colab-df-convert:hover {\n",
              "      background-color: #E2EBFA;\n",
              "      box-shadow: 0px 1px 2px rgba(60, 64, 67, 0.3), 0px 1px 3px 1px rgba(60, 64, 67, 0.15);\n",
              "      fill: #174EA6;\n",
              "    }\n",
              "\n",
              "    .colab-df-buttons div {\n",
              "      margin-bottom: 4px;\n",
              "    }\n",
              "\n",
              "    [theme=dark] .colab-df-convert {\n",
              "      background-color: #3B4455;\n",
              "      fill: #D2E3FC;\n",
              "    }\n",
              "\n",
              "    [theme=dark] .colab-df-convert:hover {\n",
              "      background-color: #434B5C;\n",
              "      box-shadow: 0px 1px 3px 1px rgba(0, 0, 0, 0.15);\n",
              "      filter: drop-shadow(0px 1px 2px rgba(0, 0, 0, 0.3));\n",
              "      fill: #FFFFFF;\n",
              "    }\n",
              "  </style>\n",
              "\n",
              "    <script>\n",
              "      const buttonEl =\n",
              "        document.querySelector('#df-33d48244-d683-4aa0-8891-8e820df00c0a button.colab-df-convert');\n",
              "      buttonEl.style.display =\n",
              "        google.colab.kernel.accessAllowed ? 'block' : 'none';\n",
              "\n",
              "      async function convertToInteractive(key) {\n",
              "        const element = document.querySelector('#df-33d48244-d683-4aa0-8891-8e820df00c0a');\n",
              "        const dataTable =\n",
              "          await google.colab.kernel.invokeFunction('convertToInteractive',\n",
              "                                                    [key], {});\n",
              "        if (!dataTable) return;\n",
              "\n",
              "        const docLinkHtml = 'Like what you see? Visit the ' +\n",
              "          '<a target=\"_blank\" href=https://colab.research.google.com/notebooks/data_table.ipynb>data table notebook</a>'\n",
              "          + ' to learn more about interactive tables.';\n",
              "        element.innerHTML = '';\n",
              "        dataTable['output_type'] = 'display_data';\n",
              "        await google.colab.output.renderOutput(dataTable, element);\n",
              "        const docLink = document.createElement('div');\n",
              "        docLink.innerHTML = docLinkHtml;\n",
              "        element.appendChild(docLink);\n",
              "      }\n",
              "    </script>\n",
              "  </div>\n",
              "\n",
              "\n",
              "<div id=\"df-89fb0418-0e98-4751-adec-712c1ee1afef\">\n",
              "  <button class=\"colab-df-quickchart\" onclick=\"quickchart('df-89fb0418-0e98-4751-adec-712c1ee1afef')\"\n",
              "            title=\"Suggest charts.\"\n",
              "            style=\"display:none;\">\n",
              "\n",
              "<svg xmlns=\"http://www.w3.org/2000/svg\" height=\"24px\"viewBox=\"0 0 24 24\"\n",
              "     width=\"24px\">\n",
              "    <g>\n",
              "        <path d=\"M19 3H5c-1.1 0-2 .9-2 2v14c0 1.1.9 2 2 2h14c1.1 0 2-.9 2-2V5c0-1.1-.9-2-2-2zM9 17H7v-7h2v7zm4 0h-2V7h2v10zm4 0h-2v-4h2v4z\"/>\n",
              "    </g>\n",
              "</svg>\n",
              "  </button>\n",
              "\n",
              "<style>\n",
              "  .colab-df-quickchart {\n",
              "      --bg-color: #E8F0FE;\n",
              "      --fill-color: #1967D2;\n",
              "      --hover-bg-color: #E2EBFA;\n",
              "      --hover-fill-color: #174EA6;\n",
              "      --disabled-fill-color: #AAA;\n",
              "      --disabled-bg-color: #DDD;\n",
              "  }\n",
              "\n",
              "  [theme=dark] .colab-df-quickchart {\n",
              "      --bg-color: #3B4455;\n",
              "      --fill-color: #D2E3FC;\n",
              "      --hover-bg-color: #434B5C;\n",
              "      --hover-fill-color: #FFFFFF;\n",
              "      --disabled-bg-color: #3B4455;\n",
              "      --disabled-fill-color: #666;\n",
              "  }\n",
              "\n",
              "  .colab-df-quickchart {\n",
              "    background-color: var(--bg-color);\n",
              "    border: none;\n",
              "    border-radius: 50%;\n",
              "    cursor: pointer;\n",
              "    display: none;\n",
              "    fill: var(--fill-color);\n",
              "    height: 32px;\n",
              "    padding: 0;\n",
              "    width: 32px;\n",
              "  }\n",
              "\n",
              "  .colab-df-quickchart:hover {\n",
              "    background-color: var(--hover-bg-color);\n",
              "    box-shadow: 0 1px 2px rgba(60, 64, 67, 0.3), 0 1px 3px 1px rgba(60, 64, 67, 0.15);\n",
              "    fill: var(--button-hover-fill-color);\n",
              "  }\n",
              "\n",
              "  .colab-df-quickchart-complete:disabled,\n",
              "  .colab-df-quickchart-complete:disabled:hover {\n",
              "    background-color: var(--disabled-bg-color);\n",
              "    fill: var(--disabled-fill-color);\n",
              "    box-shadow: none;\n",
              "  }\n",
              "\n",
              "  .colab-df-spinner {\n",
              "    border: 2px solid var(--fill-color);\n",
              "    border-color: transparent;\n",
              "    border-bottom-color: var(--fill-color);\n",
              "    animation:\n",
              "      spin 1s steps(1) infinite;\n",
              "  }\n",
              "\n",
              "  @keyframes spin {\n",
              "    0% {\n",
              "      border-color: transparent;\n",
              "      border-bottom-color: var(--fill-color);\n",
              "      border-left-color: var(--fill-color);\n",
              "    }\n",
              "    20% {\n",
              "      border-color: transparent;\n",
              "      border-left-color: var(--fill-color);\n",
              "      border-top-color: var(--fill-color);\n",
              "    }\n",
              "    30% {\n",
              "      border-color: transparent;\n",
              "      border-left-color: var(--fill-color);\n",
              "      border-top-color: var(--fill-color);\n",
              "      border-right-color: var(--fill-color);\n",
              "    }\n",
              "    40% {\n",
              "      border-color: transparent;\n",
              "      border-right-color: var(--fill-color);\n",
              "      border-top-color: var(--fill-color);\n",
              "    }\n",
              "    60% {\n",
              "      border-color: transparent;\n",
              "      border-right-color: var(--fill-color);\n",
              "    }\n",
              "    80% {\n",
              "      border-color: transparent;\n",
              "      border-right-color: var(--fill-color);\n",
              "      border-bottom-color: var(--fill-color);\n",
              "    }\n",
              "    90% {\n",
              "      border-color: transparent;\n",
              "      border-bottom-color: var(--fill-color);\n",
              "    }\n",
              "  }\n",
              "</style>\n",
              "\n",
              "  <script>\n",
              "    async function quickchart(key) {\n",
              "      const quickchartButtonEl =\n",
              "        document.querySelector('#' + key + ' button');\n",
              "      quickchartButtonEl.disabled = true;  // To prevent multiple clicks.\n",
              "      quickchartButtonEl.classList.add('colab-df-spinner');\n",
              "      try {\n",
              "        const charts = await google.colab.kernel.invokeFunction(\n",
              "            'suggestCharts', [key], {});\n",
              "      } catch (error) {\n",
              "        console.error('Error during call to suggestCharts:', error);\n",
              "      }\n",
              "      quickchartButtonEl.classList.remove('colab-df-spinner');\n",
              "      quickchartButtonEl.classList.add('colab-df-quickchart-complete');\n",
              "    }\n",
              "    (() => {\n",
              "      let quickchartButtonEl =\n",
              "        document.querySelector('#df-89fb0418-0e98-4751-adec-712c1ee1afef button');\n",
              "      quickchartButtonEl.style.display =\n",
              "        google.colab.kernel.accessAllowed ? 'block' : 'none';\n",
              "    })();\n",
              "  </script>\n",
              "</div>\n",
              "    </div>\n",
              "  </div>\n"
            ],
            "text/plain": [
              "          Date Firm bought from  Buying price  Quantity bought   Customer  \\\n",
              "0   2023-08-21          Vendor6         72.11               60  Customer7   \n",
              "1   2023-08-21          Vendor4         75.08               92  Customer7   \n",
              "2   2023-08-21          Vendor7         83.93               16  Customer2   \n",
              "3   2023-08-21          Vendor7         52.01               62  Customer3   \n",
              "4   2023-08-21          Vendor2         98.91                1  Customer5   \n",
              "..         ...              ...           ...              ...        ...   \n",
              "65  2023-08-27          Vendor4         64.82               28  Customer6   \n",
              "66  2023-08-27          Vendor8         88.79               14  Customer3   \n",
              "67  2023-08-27          Vendor5         63.30               81  Customer5   \n",
              "68  2023-08-27          Vendor5         94.06               18  Customer5   \n",
              "69  2023-08-27          Vendor5         56.28               25  Customer6   \n",
              "\n",
              "    Selling price  Quantity sold  \n",
              "0           91.58             44  \n",
              "1           83.71             17  \n",
              "2          103.76             15  \n",
              "3           64.53              7  \n",
              "4          140.92              1  \n",
              "..            ...            ...  \n",
              "65          87.45             18  \n",
              "66         105.59              5  \n",
              "67          92.92             32  \n",
              "68         125.67              4  \n",
              "69          82.16              1  \n",
              "\n",
              "[70 rows x 7 columns]"
            ]
          },
          "execution_count": 23,
          "metadata": {},
          "output_type": "execute_result"
        }
      ],
      "source": [
        "df"
      ]
    },
    {
      "cell_type": "code",
      "execution_count": 26,
      "metadata": {
        "id": "s4KkcXBL6BGl"
      },
      "outputs": [],
      "source": [
        "# 1. Can you calculate a 3-day average of the daily gross profit from the sales_data_2.csv?\n",
        "df['Date'] = pd.to_datetime(df['Date'], format='%Y-%m-%d')\n",
        "df = df.sort_values(by='Date')\n",
        "df['Gross Profit'] = (df['Selling price'] - df['Buying price']) * df['Quantity sold']\n",
        "df['3-Day Avg Gross Profit'] = df['Gross Profit'].rolling(window=3).mean()"
      ]
    },
    {
      "cell_type": "code",
      "execution_count": 27,
      "metadata": {
        "colab": {
          "base_uri": "https://localhost:8080/",
          "height": 564
        },
        "id": "Km0OfFVv6XmA",
        "outputId": "3d27b6c2-f3e9-4f3f-9b05-783f5759de97"
      },
      "outputs": [
        {
          "data": {
            "image/png": "[encoded data removed]",
            "text/plain": [
              "<Figure size 1000x600 with 1 Axes>"
            ]
          },
          "metadata": {},
          "output_type": "display_data"
        }
      ],
      "source": [
        "# 2. Additionally, provide insights into how this 3-day trend changes over the time period covered in the dataset.\n",
        "\n",
        "plt.figure(figsize=(10, 6))\n",
        "plt.plot(df['Date'], df['3-Day Avg Gross Profit'], label='3-Day Avg Gross Profit')\n",
        "plt.xlabel('Date')\n",
        "plt.ylabel('3-Day Avg Gross Profit')\n",
        "plt.title('3-Day Average Gross Profit Trend')\n",
        "plt.legend()\n",
        "plt.show()\n"
      ]
    },
    {
      "cell_type": "markdown",
      "metadata": {
        "id": "9gp0vKaZ7Sfu"
      },
      "source": [
        "3 Can you optimize the sales process to ensure gross margin is maximized?\n",
        "\n",
        "Optimizing the sales process involves analyzing vendor and customer performance to maximize gross margin.\n",
        "\n",
        "3.1 Would you fire any vendor?\n",
        "\n",
        "You can analyze the total gross profit by vendor and decide if any vendor should be fired. You may consider firing vendors with consistently low profitability."
      ]
    },
    {
      "cell_type": "code",
      "execution_count": 33,
      "metadata": {
        "colab": {
          "base_uri": "https://localhost:8080/"
        },
        "id": "jgv6xyAn7TNR",
        "outputId": "47f226e1-6c55-4e6c-84ca-bcdc4519e6fb"
      },
      "outputs": [
        {
          "name": "stdout",
          "output_type": "stream",
          "text": [
            "Top 5 profitable vendors:\n",
            "Firm bought from\n",
            "Vendor4     6903.31\n",
            "Vendor3     6370.67\n",
            "Vendor7     4961.05\n",
            "Vendor9     4266.70\n",
            "Vendor10    3040.62\n",
            "Name: Gross Profit, dtype: float64\n",
            "\n",
            "Bottom 5 profitable vendors:\n",
            "Firm bought from\n",
            "Vendor5    1616.14\n",
            "Vendor1    1555.59\n",
            "Vendor2    1296.98\n",
            "Vendor6    1217.95\n",
            "Vendor8     253.74\n",
            "Name: Gross Profit, dtype: float64\n",
            "\n",
            "Average vendor profitability: 3148.275\n"
          ]
        }
      ],
      "source": [
        "vendor_profit = df.groupby('Firm bought from')['Gross Profit'].sum()\n",
        "sorted_vendors = vendor_profit.sort_values(ascending=False)\n",
        "top_n_vendors = sorted_vendors.head(5)\n",
        "bottom_n_vendors = sorted_vendors.tail(5)\n",
        "average_profit = vendor_profit.mean()\n",
        "\n",
        "print(\"Top 5 profitable vendors:\")\n",
        "print(top_n_vendors)\n",
        "print(\"\\nBottom 5 profitable vendors:\")\n",
        "print(bottom_n_vendors)\n",
        "print(f\"\\nAverage vendor profitability: {average_profit}\")"
      ]
    },
    {
      "cell_type": "markdown",
      "metadata": {
        "id": "Wd7RujCn7aZx"
      },
      "source": [
        "3.2 Would you let go of any customer?\n",
        "\n",
        "Similar to vendors, you can analyze the total gross profit by customer and decide if any customer should be let go."
      ]
    },
    {
      "cell_type": "code",
      "execution_count": 34,
      "metadata": {
        "colab": {
          "base_uri": "https://localhost:8080/"
        },
        "id": "qXorOpqM7bbg",
        "outputId": "b1f75e3c-310e-497d-c0fd-4bcd68fe7d05"
      },
      "outputs": [
        {
          "name": "stdout",
          "output_type": "stream",
          "text": [
            "Top 5 profitable customers:\n",
            "Customer\n",
            "Customer8     6498.91\n",
            "Customer1     5310.57\n",
            "Customer2     4215.67\n",
            "Customer10    3692.44\n",
            "Customer4     3337.37\n",
            "Name: Gross Profit, dtype: float64\n",
            "\n",
            "Bottom 5 profitable customers:\n",
            "Customer\n",
            "Customer7    2197.62\n",
            "Customer6    1930.76\n",
            "Customer9    1929.08\n",
            "Customer5    1315.28\n",
            "Customer3    1055.05\n",
            "Name: Gross Profit, dtype: float64\n",
            "\n",
            "Average customer profitability: 3148.2749999999996\n"
          ]
        }
      ],
      "source": [
        "customer_profit = df.groupby('Customer')['Gross Profit'].sum()\n",
        "\n",
        "sorted_customers = customer_profit.sort_values(ascending=False)\n",
        "\n",
        "top_n_customers = sorted_customers.head(5)\n",
        "bottom_n_customers = sorted_customers.tail(5)\n",
        "\n",
        "average_profit = customer_profit.mean()\n",
        "\n",
        "print(\"Top 5 profitable customers:\")\n",
        "print(top_n_customers)\n",
        "print(\"\\nBottom 5 profitable customers:\")\n",
        "print(bottom_n_customers)\n",
        "print(f\"\\nAverage customer profitability: {average_profit}\")\n"
      ]
    },
    {
      "cell_type": "markdown",
      "metadata": {
        "id": "M9Zj0hs88KJn"
      },
      "source": [
        "4. To ensure competitive pricing, Ram wants to benchmark their buying and selling prices against the market. Could you calculate the 25th, 50th (median), and 75th percentiles for both buying and selling prices?\n",
        "\n",
        "You can calculate the percentiles for buying and selling prices as follows:"
      ]
    },
    {
      "cell_type": "code",
      "execution_count": 36,
      "metadata": {
        "colab": {
          "base_uri": "https://localhost:8080/"
        },
        "id": "hF3zssuV8Lr2",
        "outputId": "2b4dfb24-3ea7-43db-ffcd-6ab55af4c43b"
      },
      "outputs": [
        {
          "name": "stdout",
          "output_type": "stream",
          "text": [
            "[29.9  60.76 78.32]\n",
            "[ 38.975   78.99   103.3975]\n"
          ]
        }
      ],
      "source": [
        "buying_price_percentiles = np.percentile(df['Buying price'], [25, 50, 75])\n",
        "selling_price_percentiles = np.percentile(df['Selling price'], [25, 50, 75])\n",
        "\n",
        "print(buying_price_percentiles)\n",
        "print(selling_price_percentiles)"
      ]
    },
    {
      "cell_type": "markdown",
      "metadata": {
        "id": "1GvwK-Fe8hGQ"
      },
      "source": [
        "Additionally, analyze how often the Sapota’s prices fall below the 25th percentile or above the 75th percentile, potentially indicating they are buying at a high price or selling at a low price relative to their own transaction history."
      ]
    },
    {
      "cell_type": "code",
      "execution_count": 37,
      "metadata": {
        "colab": {
          "base_uri": "https://localhost:8080/"
        },
        "id": "c5IjbTZD5sUC",
        "outputId": "c1e466c0-4b78-43e3-b9c1-29d184799fdc"
      },
      "outputs": [
        {
          "name": "stdout",
          "output_type": "stream",
          "text": [
            "         Date Firm bought from  Buying price  Quantity bought   Customer  \\\n",
            "49 2023-08-25          Vendor4         17.85               80  Customer5   \n",
            "59 2023-08-26          Vendor4         28.90               88  Customer8   \n",
            "\n",
            "    Selling price  Quantity sold  Gross Profit  3-Day Avg Gross Profit  \n",
            "49          20.47             20         52.40               25.673333  \n",
            "59          36.83             11         87.23              176.443333  \n"
          ]
        }
      ],
      "source": [
        "sapota_data = df[df['Firm bought from'] == 'Vendor4']\n",
        "below_25th = sapota_data[sapota_data['Buying price'] < buying_price_percentiles[0]]\n",
        "above_75th = sapota_data[sapota_data['Selling price'] > selling_price_percentiles[2]]\n",
        "\n",
        "print(below_25th)"
      ]
    },
    {
      "cell_type": "markdown",
      "metadata": {
        "id": "XDkSsdo18JZ2"
      },
      "source": []
    },
    {
      "cell_type": "code",
      "execution_count": 38,
      "metadata": {
        "colab": {
          "base_uri": "https://localhost:8080/"
        },
        "id": "-1B2ndtK8nru",
        "outputId": "491bf219-4b3d-4d26-d3cf-28c9fea16b88"
      },
      "outputs": [
        {
          "name": "stdout",
          "output_type": "stream",
          "text": [
            "         Date Firm bought from  Buying price  Quantity bought   Customer  \\\n",
            "34 2023-08-24          Vendor4         99.23               95  Customer1   \n",
            "54 2023-08-26          Vendor4         82.77               66  Customer8   \n",
            "\n",
            "    Selling price  Quantity sold  Gross Profit  3-Day Avg Gross Profit  \n",
            "34         131.98             92        3013.0             1229.933333  \n",
            "54         124.13             65        2688.4             1198.830000  \n"
          ]
        }
      ],
      "source": [
        "print(above_75th)"
      ]
    }
  ],
  "metadata": {
    "colab": {
      "provenance": []
    },
    "kernelspec": {
      "display_name": "Python 3",
      "name": "python3"
    },
    "language_info": {
      "name": "python"
    }
  },
  "nbformat": 4,
  "nbformat_minor": 0
}
