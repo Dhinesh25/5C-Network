{
  "cells": [
    {
      "cell_type": "code",
      "execution_count": 2,
      "metadata": {
        "id": "IM31zWcN53He"
      },
      "outputs": [],
      "source": [
        "import pandas as pd\n",
        "import numpy as np\n",
        "import matplotlib.pyplot as plt"
      ]
    },
    {
      "cell_type": "code",
      "execution_count": 3,
      "metadata": {
        "id": "jB4z1xxs54aT"
      },
      "outputs": [],
      "source": [
        "#data\n",
        "df = pd.read_csv('sales_data_2.csv')"
      ]
    },
    {
      "cell_type": "code",
      "execution_count": 3,
      "metadata": {
        "colab": {
          "base_uri": "https://localhost:8080/",
          "height": 424
        },
        "id": "PZRv2qUv6y8f",
        "outputId": "f23cd25a-9392-431c-e9e2-aeb6c8fca7c1"
      },
      "outputs": [
        {
          "data": {
            "text/html": [
              "<div>\n",
              "<style scoped>\n",
              "    .dataframe tbody tr th:only-of-type {\n",
              "        vertical-align: middle;\n",
              "    }\n",
              "\n",
              "    .dataframe tbody tr th {\n",
              "        vertical-align: top;\n",
              "    }\n",
              "\n",
              "    .dataframe thead th {\n",
              "        text-align: right;\n",
              "    }\n",
              "</style>\n",
              "<table border=\"1\" class=\"dataframe\">\n",
              "  <thead>\n",
              "    <tr style=\"text-align: right;\">\n",
              "      <th></th>\n",
              "      <th>Date</th>\n",
              "      <th>Firm bought from</th>\n",
              "      <th>Buying price</th>\n",
              "      <th>Quantity bought</th>\n",
              "      <th>Customer</th>\n",
              "      <th>Selling price</th>\n",
              "      <th>Quantity sold</th>\n",
              "    </tr>\n",
              "  </thead>\n",
              "  <tbody>\n",
              "    <tr>\n",
              "      <th>0</th>\n",
              "      <td>2023-08-21</td>\n",
              "      <td>Vendor6</td>\n",
              "      <td>72.11</td>\n",
              "      <td>60</td>\n",
              "      <td>Customer7</td>\n",
              "      <td>91.58</td>\n",
              "      <td>44</td>\n",
              "    </tr>\n",
              "    <tr>\n",
              "      <th>1</th>\n",
              "      <td>2023-08-21</td>\n",
              "      <td>Vendor4</td>\n",
              "      <td>75.08</td>\n",
              "      <td>92</td>\n",
              "      <td>Customer7</td>\n",
              "      <td>83.71</td>\n",
              "      <td>17</td>\n",
              "    </tr>\n",
              "    <tr>\n",
              "      <th>2</th>\n",
              "      <td>2023-08-21</td>\n",
              "      <td>Vendor7</td>\n",
              "      <td>83.93</td>\n",
              "      <td>16</td>\n",
              "      <td>Customer2</td>\n",
              "      <td>103.76</td>\n",
              "      <td>15</td>\n",
              "    </tr>\n",
              "    <tr>\n",
              "      <th>3</th>\n",
              "      <td>2023-08-21</td>\n",
              "      <td>Vendor7</td>\n",
              "      <td>52.01</td>\n",
              "      <td>62</td>\n",
              "      <td>Customer3</td>\n",
              "      <td>64.53</td>\n",
              "      <td>7</td>\n",
              "    </tr>\n",
              "    <tr>\n",
              "      <th>4</th>\n",
              "      <td>2023-08-21</td>\n",
              "      <td>Vendor2</td>\n",
              "      <td>98.91</td>\n",
              "      <td>1</td>\n",
              "      <td>Customer5</td>\n",
              "      <td>140.92</td>\n",
              "      <td>1</td>\n",
              "    </tr>\n",
              "    <tr>\n",
              "      <th>...</th>\n",
              "      <td>...</td>\n",
              "      <td>...</td>\n",
              "      <td>...</td>\n",
              "      <td>...</td>\n",
              "      <td>...</td>\n",
              "      <td>...</td>\n",
              "      <td>...</td>\n",
              "    </tr>\n",
              "    <tr>\n",
              "      <th>65</th>\n",
              "      <td>2023-08-27</td>\n",
              "      <td>Vendor4</td>\n",
              "      <td>64.82</td>\n",
              "      <td>28</td>\n",
              "      <td>Customer6</td>\n",
              "      <td>87.45</td>\n",
              "      <td>18</td>\n",
              "    </tr>\n",
              "    <tr>\n",
              "      <th>66</th>\n",
              "      <td>2023-08-27</td>\n",
              "      <td>Vendor8</td>\n",
              "      <td>88.79</td>\n",
              "      <td>14</td>\n",
              "      <td>Customer3</td>\n",
              "      <td>105.59</td>\n",
              "      <td>5</td>\n",
              "    </tr>\n",
              "    <tr>\n",
              "      <th>67</th>\n",
              "      <td>2023-08-27</td>\n",
              "      <td>Vendor5</td>\n",
              "      <td>63.30</td>\n",
              "      <td>81</td>\n",
              "      <td>Customer5</td>\n",
              "      <td>92.92</td>\n",
              "      <td>32</td>\n",
              "    </tr>\n",
              "    <tr>\n",
              "      <th>68</th>\n",
              "      <td>2023-08-27</td>\n",
              "      <td>Vendor5</td>\n",
              "      <td>94.06</td>\n",
              "      <td>18</td>\n",
              "      <td>Customer5</td>\n",
              "      <td>125.67</td>\n",
              "      <td>4</td>\n",
              "    </tr>\n",
              "    <tr>\n",
              "      <th>69</th>\n",
              "      <td>2023-08-27</td>\n",
              "      <td>Vendor5</td>\n",
              "      <td>56.28</td>\n",
              "      <td>25</td>\n",
              "      <td>Customer6</td>\n",
              "      <td>82.16</td>\n",
              "      <td>1</td>\n",
              "    </tr>\n",
              "  </tbody>\n",
              "</table>\n",
              "<p>70 rows × 7 columns</p>\n",
              "</div>"
            ],
            "text/plain": [
              "          Date Firm bought from  Buying price  Quantity bought   Customer  \\\n",
              "0   2023-08-21          Vendor6         72.11               60  Customer7   \n",
              "1   2023-08-21          Vendor4         75.08               92  Customer7   \n",
              "2   2023-08-21          Vendor7         83.93               16  Customer2   \n",
              "3   2023-08-21          Vendor7         52.01               62  Customer3   \n",
              "4   2023-08-21          Vendor2         98.91                1  Customer5   \n",
              "..         ...              ...           ...              ...        ...   \n",
              "65  2023-08-27          Vendor4         64.82               28  Customer6   \n",
              "66  2023-08-27          Vendor8         88.79               14  Customer3   \n",
              "67  2023-08-27          Vendor5         63.30               81  Customer5   \n",
              "68  2023-08-27          Vendor5         94.06               18  Customer5   \n",
              "69  2023-08-27          Vendor5         56.28               25  Customer6   \n",
              "\n",
              "    Selling price  Quantity sold  \n",
              "0           91.58             44  \n",
              "1           83.71             17  \n",
              "2          103.76             15  \n",
              "3           64.53              7  \n",
              "4          140.92              1  \n",
              "..            ...            ...  \n",
              "65          87.45             18  \n",
              "66         105.59              5  \n",
              "67          92.92             32  \n",
              "68         125.67              4  \n",
              "69          82.16              1  \n",
              "\n",
              "[70 rows x 7 columns]"
            ]
          },
          "execution_count": 3,
          "metadata": {},
          "output_type": "execute_result"
        }
      ],
      "source": [
        "df"
      ]
    },
    {
      "cell_type": "code",
      "execution_count": 4,
      "metadata": {
        "id": "s4KkcXBL6BGl"
      },
      "outputs": [],
      "source": [
        "# 6. Can you calculate a 3-day average of the daily gross profit from the sales_data_2.csv?\n",
        "df['Date'] = pd.to_datetime(df['Date'], format='%Y-%m-%d')\n",
        "df = df.sort_values(by='Date')\n",
        "df['Gross Profit'] = (df['Selling price'] - df['Buying price']) * df['Quantity sold']\n",
        "df['3-Day Avg Gross Profit'] = df['Gross Profit'].rolling(window=3).mean()"
      ]
    },
    {
      "cell_type": "code",
      "execution_count": 5,
      "metadata": {
        "colab": {
          "base_uri": "https://localhost:8080/",
          "height": 564
        },
        "id": "Km0OfFVv6XmA",
        "outputId": "3d27b6c2-f3e9-4f3f-9b05-783f5759de97"
      },
      "outputs": [
        {
          "data": {
            "image/png": "[encoded data removed]",
            "text/plain": [
              "<Figure size 720x432 with 1 Axes>"
            ]
          },
          "metadata": {
            "needs_background": "light"
          },
          "output_type": "display_data"
        }
      ],
      "source": [
        "# 7. Additionally, provide insights into how this 3-day trend changes over the time period covered in the dataset.\n",
        "\n",
        "plt.figure(figsize=(10, 6))\n",
        "plt.plot(df['Date'], df['3-Day Avg Gross Profit'], label='3-Day Avg Gross Profit')\n",
        "plt.xlabel('Date')\n",
        "plt.ylabel('3-Day Avg Gross Profit')\n",
        "plt.title('3-Day Average Gross Profit Trend')\n",
        "plt.legend()\n",
        "plt.show()\n"
      ]
    },
    {
      "cell_type": "markdown",
      "metadata": {
        "id": "9gp0vKaZ7Sfu"
      },
      "source": [
        "8 Can you optimize the sales process to ensure gross margin is maximized?\n",
        "\n",
        "by Optimizing the sales process involves analyzing vendor and customer performance to maximize gross margin.\n",
        "\n",
        "8.a Would you fire any vendor?\n",
        "\n",
        "You can analyze the total gross profit by vendor and decide if any vendor should be fired. You may consider firing vendors with consistently low profitability."
      ]
    },
    {
      "cell_type": "code",
      "execution_count": 6,
      "metadata": {
        "colab": {
          "base_uri": "https://localhost:8080/"
        },
        "id": "jgv6xyAn7TNR",
        "outputId": "47f226e1-6c55-4e6c-84ca-bcdc4519e6fb"
      },
      "outputs": [
        {
          "name": "stdout",
          "output_type": "stream",
          "text": [
            "Top 5 profitable vendors:\n",
            "Firm bought from\n",
            "Vendor4     6903.31\n",
            "Vendor3     6370.67\n",
            "Vendor7     4961.05\n",
            "Vendor9     4266.70\n",
            "Vendor10    3040.62\n",
            "Name: Gross Profit, dtype: float64\n",
            "\n",
            "Bottom 5 profitable vendors:\n",
            "Firm bought from\n",
            "Vendor5    1616.14\n",
            "Vendor1    1555.59\n",
            "Vendor2    1296.98\n",
            "Vendor6    1217.95\n",
            "Vendor8     253.74\n",
            "Name: Gross Profit, dtype: float64\n",
            "\n",
            "Average vendor profitability: 3148.275\n"
          ]
        }
      ],
      "source": [
        "vendor_profit = df.groupby('Firm bought from')['Gross Profit'].sum()\n",
        "sorted_vendors = vendor_profit.sort_values(ascending=False)\n",
        "top_n_vendors = sorted_vendors.head(5)\n",
        "bottom_n_vendors = sorted_vendors.tail(5)\n",
        "average_profit = vendor_profit.mean()\n",
        "\n",
        "print(\"Top 5 profitable vendors:\")\n",
        "print(top_n_vendors)\n",
        "print(\"\\nBottom 5 profitable vendors:\")\n",
        "print(bottom_n_vendors)\n",
        "print(f\"\\nAverage vendor profitability: {average_profit}\")"
      ]
    },
    {
      "cell_type": "markdown",
      "metadata": {
        "id": "Wd7RujCn7aZx"
      },
      "source": [
        "8.b Would you let go of any customer?\n",
        "\n",
        "Similar to vendors, you can analyze the total gross profit by customer and decide if any customer should be let go."
      ]
    },
    {
      "cell_type": "code",
      "execution_count": 7,
      "metadata": {
        "colab": {
          "base_uri": "https://localhost:8080/"
        },
        "id": "qXorOpqM7bbg",
        "outputId": "b1f75e3c-310e-497d-c0fd-4bcd68fe7d05"
      },
      "outputs": [
        {
          "name": "stdout",
          "output_type": "stream",
          "text": [
            "Top 5 profitable customers:\n",
            "Customer\n",
            "Customer8     6498.91\n",
            "Customer1     5310.57\n",
            "Customer2     4215.67\n",
            "Customer10    3692.44\n",
            "Customer4     3337.37\n",
            "Name: Gross Profit, dtype: float64\n",
            "\n",
            "Bottom 5 profitable customers:\n",
            "Customer\n",
            "Customer7    2197.62\n",
            "Customer6    1930.76\n",
            "Customer9    1929.08\n",
            "Customer5    1315.28\n",
            "Customer3    1055.05\n",
            "Name: Gross Profit, dtype: float64\n",
            "\n",
            "Average customer profitability: 3148.2749999999996\n"
          ]
        }
      ],
      "source": [
        "customer_profit = df.groupby('Customer')['Gross Profit'].sum()\n",
        "\n",
        "sorted_customers = customer_profit.sort_values(ascending=False)\n",
        "\n",
        "top_n_customers = sorted_customers.head(5)\n",
        "bottom_n_customers = sorted_customers.tail(5)\n",
        "\n",
        "average_profit = customer_profit.mean()\n",
        "\n",
        "print(\"Top 5 profitable customers:\")\n",
        "print(top_n_customers)\n",
        "print(\"\\nBottom 5 profitable customers:\")\n",
        "print(bottom_n_customers)\n",
        "print(f\"\\nAverage customer profitability: {average_profit}\")\n"
      ]
    },
    {
      "cell_type": "markdown",
      "metadata": {
        "id": "M9Zj0hs88KJn"
      },
      "source": [
        "9. To ensure competitive pricing, Ram wants to benchmark their buying and selling prices against the market. Could you calculate the 25th, 50th (median), and 75th percentiles for both buying and selling prices?\n",
        "\n",
        "You can calculate the percentiles for buying and selling prices as follows:"
      ]
    },
    {
      "cell_type": "code",
      "execution_count": 8,
      "metadata": {
        "colab": {
          "base_uri": "https://localhost:8080/"
        },
        "id": "hF3zssuV8Lr2",
        "outputId": "2b4dfb24-3ea7-43db-ffcd-6ab55af4c43b"
      },
      "outputs": [
        {
          "name": "stdout",
          "output_type": "stream",
          "text": [
            "[29.9  60.76 78.32]\n",
            "[ 38.975   78.99   103.3975]\n"
          ]
        }
      ],
      "source": [
        "buying_price_percentiles = np.percentile(df['Buying price'], [25, 50, 75])\n",
        "selling_price_percentiles = np.percentile(df['Selling price'], [25, 50, 75])\n",
        "\n",
        "print(buying_price_percentiles)\n",
        "print(selling_price_percentiles)"
      ]
    },
    {
      "cell_type": "markdown",
      "metadata": {
        "id": "1GvwK-Fe8hGQ"
      },
      "source": [
        "10.Additionally, analyze how often the Sapota’s prices fall below the 25th percentile or above the 75th percentile, potentially indicating they are buying at a high price or selling at a low price relative to their own transaction history."
      ]
    },
    {
      "cell_type": "code",
      "execution_count": 9,
      "metadata": {
        "colab": {
          "base_uri": "https://localhost:8080/"
        },
        "id": "c5IjbTZD5sUC",
        "outputId": "c1e466c0-4b78-43e3-b9c1-29d184799fdc"
      },
      "outputs": [
        {
          "name": "stdout",
          "output_type": "stream",
          "text": [
            "         Date Firm bought from  Buying price  Quantity bought   Customer  \\\n",
            "49 2023-08-25          Vendor4         17.85               80  Customer5   \n",
            "59 2023-08-26          Vendor4         28.90               88  Customer8   \n",
            "\n",
            "    Selling price  Quantity sold  Gross Profit  3-Day Avg Gross Profit  \n",
            "49          20.47             20         52.40               25.673333  \n",
            "59          36.83             11         87.23              176.443333  \n"
          ]
        }
      ],
      "source": [
        "sapota_data = df[df['Firm bought from'] == 'Vendor4']\n",
        "below_25th = sapota_data[sapota_data['Buying price'] < buying_price_percentiles[0]]\n",
        "above_75th = sapota_data[sapota_data['Selling price'] > selling_price_percentiles[2]]\n",
        "\n",
        "print(below_25th)"
      ]
    },
    {
      "cell_type": "code",
      "execution_count": 10,
      "metadata": {
        "colab": {
          "base_uri": "https://localhost:8080/"
        },
        "id": "-1B2ndtK8nru",
        "outputId": "491bf219-4b3d-4d26-d3cf-28c9fea16b88"
      },
      "outputs": [
        {
          "name": "stdout",
          "output_type": "stream",
          "text": [
            "         Date Firm bought from  Buying price  Quantity bought   Customer  \\\n",
            "34 2023-08-24          Vendor4         99.23               95  Customer1   \n",
            "54 2023-08-26          Vendor4         82.77               66  Customer8   \n",
            "\n",
            "    Selling price  Quantity sold  Gross Profit  3-Day Avg Gross Profit  \n",
            "34         131.98             92        3013.0             1229.933333  \n",
            "54         124.13             65        2688.4             1198.830000  \n"
          ]
        }
      ],
      "source": [
        "print(above_75th)"
      ]
    },
    {
      "cell_type": "code",
      "execution_count": null,
      "metadata": {},
      "outputs": [],
      "source": [
        "11.Bharath says that Vendor 4 has to be honored.  What impact does it have on your optimal gross margin"
      ]
    },
    {
      "cell_type": "code",
      "execution_count": 4,
      "metadata": {},
      "outputs": [
        {
          "name": "stdout",
          "output_type": "stream",
          "text": [
            "Gross Margin with Vendor 4: 3.29%\n",
            "Gross Margin without Vendor 4: 20.04%\n",
            "Impact on Gross Margin by honoring Vendor 4: -16.76%\n"
          ]
        }
      ],
      "source": [
        "# To honor the vendor 4, First we need to calculate total profit with vendor 4\n",
        "total_profit_with_vendor4 = (df[df['Firm bought from'] == 'Vendor4']['Selling price'].sum() - df[df['Firm bought from'] == 'Vendor4']['Buying price'].sum())\n",
        "\n",
        "# Total profit without Vendor 4\n",
        "total_profit_without_vendor4 = (df[df['Firm bought from']!= 'Vendor4']['Selling price'].sum() - df[df['Firm bought from'] != 'Vendor4']['Buying price'].sum())\n",
        "\n",
        "# Calculate gross margin with and without Vendor 4\n",
        "gross_margin_with_vendor4 = (total_profit_with_vendor4 / df['Selling price'].sum()) * 100\n",
        "gross_margin_without_vendor4 = (total_profit_without_vendor4 / df['Selling price'].sum()) * 100\n",
        "\n",
        "# Calculate the impact on gross margin\n",
        "impact_on_gross_margin = gross_margin_with_vendor4 - gross_margin_without_vendor4\n",
        "\n",
        "print(f\"Gross Margin with Vendor 4: {gross_margin_with_vendor4:.2f}%\")\n",
        "print(f\"Gross Margin without Vendor 4: {gross_margin_without_vendor4:.2f}%\")\n",
        "print(f\"Impact on Gross Margin by honoring Vendor 4: {impact_on_gross_margin:.2f}%\")"
      ]
    },
    {
      "cell_type": "markdown",
      "metadata": {},
      "source": [
        "12.Which vendor should we have a strategic tie up so that we source only from them (the goal here is to have the highest gross margin)"
      ]
    },
    {
      "cell_type": "code",
      "execution_count": 5,
      "metadata": {},
      "outputs": [
        {
          "name": "stdout",
          "output_type": "stream",
          "text": [
            "Vendor for Strategic Tie-Up: Vendor4\n",
            "Theoretical Max Gross Margin (Considering Quantity Bought): 58630.99\n"
          ]
        }
      ],
      "source": [
        "# Calculate the maximum gross margin by assuming the selling price that maximizes profit\n",
        "df['gross_margin'] = (df['Selling price'] - df['Buying price']) * df['Quantity sold']\n",
        "\n",
        "# Find the selling price that maximizes profit for each row\n",
        "df['optimal_selling_price'] = df.apply(lambda row: row['Buying price'] if row['Buying price'] > row['Selling price'] else row['Selling price'], axis=1)\n",
        "\n",
        "# Calculate total gross margin per vendor\n",
        "vendor_gross_margin = df.groupby('Firm bought from')['gross_margin'].sum()\n",
        "\n",
        "# Find the vendor with the highest total gross margin\n",
        "max_profit_vendor = vendor_gross_margin.idxmax()\n",
        "\n",
        "# Calculate the maximum possible gross margin\n",
        "max_possible_gross_margin = (df['optimal_selling_price'] - df['Buying price']) * df['Quantity bought']\n",
        "\n",
        "# Calculate the theoretical maximum gross margin\n",
        "theoretical_max_gross_margin = max_possible_gross_margin.sum()\n",
        "\n",
        "# Vendor with the highest total gross margin\n",
        "print(\"Vendor for Strategic Tie-Up:\", max_profit_vendor)\n",
        "\n",
        "# Theoretical max gross margin\n",
        "print(\"Theoretical Max Gross Margin (Considering Quantity Bought):\", theoretical_max_gross_margin)"
      ]
    },
    {
      "cell_type": "markdown",
      "metadata": {},
      "source": [
        "13.Given this is the ground truth, what is the price elasticity of Sapota for that branch? (If you increase by Rs.1, how much sales will go up/down and if you decrease price by Rs. 1, how much sales will go up/down) "
      ]
    },
    {
      "cell_type": "code",
      "execution_count": 6,
      "metadata": {},
      "outputs": [
        {
          "name": "stdout",
          "output_type": "stream",
          "text": [
            "Change in price of Sapota for that Branch decreasing by 1: 5418.72\n"
          ]
        }
      ],
      "source": [
        "# Price Change Increase\n",
        "price_change = 1\n",
        "\n",
        "# Calculate the initial total quantity sold\n",
        "initial_quantity_sold = df['Quantity sold'].sum()\n",
        "\n",
        "# Calculate the total quantity sold after increasing the price\n",
        "df['New Selling Price'] = df['Selling price'] - price_change\n",
        "new_quantity_sold = df['New Selling Price'] * df['Quantity sold']\n",
        "new_total_quantity_sold = new_quantity_sold.sum()\n",
        "\n",
        "# Calculate the percentage change in quantity sold\n",
        "percentage_change_quantity_sold = ((new_total_quantity_sold - initial_quantity_sold) / initial_quantity_sold) * 100\n",
        "\n",
        "# Calculate the percentage change in price\n",
        "percentage_change_price = (price_change / df['Selling price'].mean()) * 100\n",
        "\n",
        "# Calculate price elasticity\n",
        "d_elasticity = percentage_change_quantity_sold / percentage_change_price\n",
        "print(\"Change in price of Sapota for that Branch decreasing by 1: {:.2f}\".format(d_elasticity))\n"
      ]
    }
  ],
  "metadata": {
    "colab": {
      "provenance": []
    },
    "kernelspec": {
      "display_name": "Python 3",
      "name": "python3"
    },
    "language_info": {
      "codemirror_mode": {
        "name": "ipython",
        "version": 3
      },
      "file_extension": ".py",
      "mimetype": "text/x-python",
      "name": "python",
      "nbconvert_exporter": "python",
      "pygments_lexer": "ipython3",
      "version": "3.10.5"
    }
  },
  "nbformat": 4,
  "nbformat_minor": 0
}
